{
 "cells": [
  {
   "cell_type": "markdown",
   "id": "2763d3a5",
   "metadata": {},
   "source": [
    "# stats for biology with python\n",
    "In this course, we go through principles of statistics based on the book titled *Python Programming for Biology*: https://www.cambridge.org/core/books/python-programming-for-biology/61762A9F672FDD8B2DD3FFF8773027B2. We focus on the following chapters:\n",
    "\n",
    "1. Chapter 22, Statistics\n",
    "2. Chapter 23, Clustering and discrimination\n",
    "3. Chapter 24, Machine learning\n",
    "\n",
    "Presenter: Dr Ali Fahmi"
   ]
  },
  {
   "cell_type": "markdown",
   "id": "816b57d1",
   "metadata": {},
   "source": [
    "## 1- Statistics\n",
    "### 1-1- Statistical analyses\n",
    "#### Samples and significance"
   ]
  },
  {
   "cell_type": "code",
   "execution_count": null,
   "id": "38e8ffd5",
   "metadata": {},
   "outputs": [],
   "source": [
    "from matplotlib import pyplot\n",
    "from numpy import random\n",
    "mean = 0.0\n",
    "stdDev = 1.0\n",
    "for nPoints in (10, 100, 1000, 10000,100000):\n",
    "    sample = random.normal(mean, stdDev, nPoints)\n",
    "    pyplot.hist(sample, bins=20, range=(-4,4))#, normed=True)\n",
    "    pyplot.show()"
   ]
  },
  {
   "cell_type": "code",
   "execution_count": null,
   "id": "351db7d5",
   "metadata": {
    "scrolled": false
   },
   "outputs": [],
   "source": [
    "#create histogram with density curve overlaid\n",
    "import seaborn as sns\n",
    "import matplotlib.pyplot as plt\n",
    "for nPoints in (10, 100, 1000, 10000,100000):\n",
    "    sample = random.normal(mean, stdDev, nPoints)\n",
    "    g = sns.displot(sample, kde=True, bins=20, kde_kws={\"clip\": [-4, 4]}, height=4, aspect=1.35)\n",
    "    g.set(xlim=(-4, 4))"
   ]
  },
  {
   "cell_type": "markdown",
   "id": "a7bf53d2",
   "metadata": {},
   "source": [
    "### 1-2- Simple statistical parameters\n",
    "#### Mode"
   ]
  },
  {
   "cell_type": "code",
   "execution_count": null,
   "id": "c7bd4ab4",
   "metadata": {},
   "outputs": [],
   "source": [
    "#first create a set called values\n",
    "values = [1,2,2,3,2,1,4,2,3,1,0]"
   ]
  },
  {
   "cell_type": "markdown",
   "id": "7553935b",
   "metadata": {},
   "source": [
    "You can find the mode using the following codes. Consider the mode is the most commonly occurring value in a set of data"
   ]
  },
  {
   "cell_type": "code",
   "execution_count": null,
   "id": "4e8bd7ef",
   "metadata": {},
   "outputs": [],
   "source": [
    "counts = [(values.count(val), val) for val in set(values)]\n",
    "count, mode = max(counts)\n",
    "print('Mode =', mode)"
   ]
  },
  {
   "cell_type": "markdown",
   "id": "ec6fc3fd",
   "metadata": {},
   "source": [
    "Another way of finding the mode using the SciPy library. For details, see: https://docs.scipy.org/doc/scipy/reference/generated/scipy.stats.mode.html"
   ]
  },
  {
   "cell_type": "code",
   "execution_count": null,
   "id": "33209dc2",
   "metadata": {},
   "outputs": [],
   "source": [
    "from scipy import stats\n",
    "from numpy import array\n",
    "#convert values set into an array\n",
    "valArray = array(values, float)\n",
    "#find mode\n",
    "mode, count = stats.mode(valArray)\n",
    "print('Mode:', mode[0])"
   ]
  },
  {
   "cell_type": "markdown",
   "id": "9674e3dd",
   "metadata": {},
   "source": [
    "#### Median\n",
    "You can find the median using NumPy library. For details, see: https://numpy.org/doc/stable/reference/generated/numpy.median.html"
   ]
  },
  {
   "cell_type": "code",
   "execution_count": null,
   "id": "97555ff4",
   "metadata": {},
   "outputs": [],
   "source": [
    "from numpy import median\n",
    "med = median(valArray)\n",
    "print('Median =', med)"
   ]
  },
  {
   "cell_type": "markdown",
   "id": "d54d6448",
   "metadata": {},
   "source": [
    "Another way of finding the median is by defining a function, instead of using a library."
   ]
  },
  {
   "cell_type": "code",
   "execution_count": null,
   "id": "d9d375bc",
   "metadata": {},
   "outputs": [],
   "source": [
    "def getMedian(values):\n",
    "    vSorted = sorted(values)\n",
    "    nValues = len(values)\n",
    "    if nValues % 2 == 0: # even number\n",
    "        index = nValues//2\n",
    "        median = sum(vSorted[index-1:index+1])/2.0\n",
    "    else:\n",
    "        index = (nValues-1)//2\n",
    "        median = vSorted[index]\n",
    "    return median"
   ]
  },
  {
   "cell_type": "code",
   "execution_count": null,
   "id": "b9f088c9",
   "metadata": {},
   "outputs": [],
   "source": [
    "#use getMedian function\n",
    "med = getMedian(values)\n",
    "print('Median =', med)"
   ]
  },
  {
   "cell_type": "markdown",
   "id": "5d2e6257",
   "metadata": {},
   "source": [
    "#### Mean\n",
    "You can calculate the mean as shown below. Consider the mean is the numerical average of a set of values."
   ]
  },
  {
   "cell_type": "code",
   "execution_count": null,
   "id": "24fd6ab2",
   "metadata": {},
   "outputs": [],
   "source": [
    "mean = sum(values)/float(len(values))\n",
    "print('Mean = ', mean)"
   ]
  },
  {
   "cell_type": "markdown",
   "id": "578af6c5",
   "metadata": {},
   "source": [
    "You can rounding the mean in printing only."
   ]
  },
  {
   "cell_type": "code",
   "execution_count": null,
   "id": "af3eb21d",
   "metadata": {},
   "outputs": [],
   "source": [
    "print('Mean = %.3f' %mean)"
   ]
  },
  {
   "cell_type": "markdown",
   "id": "0dcd6cf6",
   "metadata": {},
   "source": [
    "Or you can use the following rounding function to round the mean forever! For details, see: https://docs.python.org/3/library/functions.html#round"
   ]
  },
  {
   "cell_type": "code",
   "execution_count": null,
   "id": "bf4381cb",
   "metadata": {},
   "outputs": [],
   "source": [
    "mean_rounded = round(mean, 2)\n",
    "print('Rounded mean =', mean_rounded)"
   ]
  },
  {
   "cell_type": "markdown",
   "id": "2c9cca04",
   "metadata": {},
   "source": [
    "Another way of finding the median by defining a function, instead of using NumPy library. For details, see: https://numpy.org/doc/stable/reference/generated/numpy.mean.html"
   ]
  },
  {
   "cell_type": "code",
   "execution_count": null,
   "id": "a6abdea6",
   "metadata": {},
   "outputs": [],
   "source": [
    "from numpy import array, mean\n",
    "valArray = array(values, float)\n",
    "m = valArray.mean()\n",
    "# or\n",
    "m = mean(valArray)\n",
    "print('Mean =', m)"
   ]
  },
  {
   "cell_type": "markdown",
   "id": "57b4cbc8",
   "metadata": {},
   "source": [
    "#### Variance\n",
    "You can calculate the variance using the following codes. Consider the variance is a measure of how far the values are spread from the mean."
   ]
  },
  {
   "cell_type": "code",
   "execution_count": null,
   "id": "5a65e87a",
   "metadata": {},
   "outputs": [],
   "source": [
    "n = float(len(values))\n",
    "mean = sum(values)/n\n",
    "diffs = [v-mean for v in values]\n",
    "#unbiased estimate of variance (since it divides by n-1)\n",
    "variance = sum([d*d for d in diffs])/(n-1) \n",
    "print('Variance = %.3f' %variance) "
   ]
  },
  {
   "cell_type": "markdown",
   "id": "4c084bbe",
   "metadata": {},
   "source": [
    "Variance can be calculated using NumPy as shown below. It has a parameter, called ddof, standign for Delta Degrees of Freedom that is the divisor used in the calculation. If ddof is given 1, it generates unbiased variance by calculating *n-1*, otherwise it calculates biased variance since ddof is 0 by default. For details, see: https://numpy.org/doc/stable/reference/generated/numpy.var.html"
   ]
  },
  {
   "cell_type": "code",
   "execution_count": null,
   "id": "fb530170",
   "metadata": {},
   "outputs": [],
   "source": [
    "from numpy import array\n",
    "valArray = array(values)\n",
    "variance = valArray.var()\n",
    "print('Biased variance = %.3f' %variance)\n",
    "#unbiased estimate. ddof stands for Delta Degrees of Freedom\n",
    "variance = valArray.var(ddof=1)\n",
    "print('Unbiased variance = %.3f' %variance)"
   ]
  },
  {
   "cell_type": "markdown",
   "id": "e9f90924",
   "metadata": {},
   "source": [
    "#### Standard deviation and standard error\n",
    "\n",
    "Standard deviation can be calculated with the variance using NumPy, as shown below. For details, see: https://numpy.org/doc/stable/reference/generated/numpy.std.html"
   ]
  },
  {
   "cell_type": "code",
   "execution_count": null,
   "id": "7c2e6365",
   "metadata": {},
   "outputs": [],
   "source": [
    "from numpy import std, sqrt\n",
    "stdDev = sqrt(variance)\n",
    "stdDev = std(valArray)\n",
    "stdDev = valArray.std(ddof=1)\n",
    "print('Standard deviation = %.3f' %stdDev)"
   ]
  },
  {
   "cell_type": "markdown",
   "id": "4b89dd61",
   "metadata": {},
   "source": [
    "Standard error is related to standrd deviation. It is the error from the mean, and can be calculated using SciPy, as shown below. For details, see: https://docs.scipy.org/doc/scipy/reference/generated/scipy.stats.sem.html#scipy.stats.sem"
   ]
  },
  {
   "cell_type": "code",
   "execution_count": null,
   "id": "083fee5d",
   "metadata": {},
   "outputs": [],
   "source": [
    "stdErrMean = valArray.std(ddof=1)/sqrt(len(valArray))\n",
    "from scipy.stats import sem\n",
    "stdErrMean = sem(valArray, ddof=1)\n",
    "print('Standard error = %.3f' %stdErrMean)"
   ]
  },
  {
   "cell_type": "markdown",
   "id": "8085ca95",
   "metadata": {},
   "source": [
    "You can calculate the skewness using the following codes. Consider the skewness of a distribution is a measure of asymmetry or lopsidedness. For details, see: https://docs.scipy.org/doc/scipy/reference/generated/scipy.stats.skew.html#scipy.stats.skew"
   ]
  },
  {
   "cell_type": "code",
   "execution_count": null,
   "id": "42dec6ab",
   "metadata": {},
   "outputs": [],
   "source": [
    "from scipy.stats import skew\n",
    "from numpy import random\n",
    "samples = random.gamma(3.0, 2.0, 100)\n",
    "skewdness = skew(samples)\n",
    "print('Skewnes = %.3f' %skewdness)"
   ]
  },
  {
   "cell_type": "markdown",
   "id": "1325b50e",
   "metadata": {},
   "source": [
    "### 1-3- Statistical tests\n",
    "#### Significance and hypotheses\n",
    "#### Binomial test\n",
    "Binomial test is concerned with the number of occurrences of an event that has a fixed probability of occurring, given a certain number of trials. Bionial test can be conducted using SciPy as shown below. For details, see: https://docs.scipy.org/doc/scipy/reference/generated/scipy.stats.binom_test.html"
   ]
  },
  {
   "cell_type": "code",
   "execution_count": null,
   "id": "39be3db0",
   "metadata": {},
   "outputs": [],
   "source": [
    "from scipy.stats import binom_test\n",
    "count_success, nTrials, pEvent = 530, 1000, 0.5\n",
    "result = binom_test(count_success, nTrials, pEvent)\n",
    "print('Binomial two tail =', result)"
   ]
  },
  {
   "cell_type": "markdown",
   "id": "c14e5569",
   "metadata": {},
   "source": [
    "#### Z-scores and Z-test\n",
    "A Z-score (also called the standard score) is the number of standard deviations an observed value is different from the mean.\n",
    "\n",
    "$$\n",
    "  z = \\frac{x-\\mu}{\\sigma}\n",
    "$$"
   ]
  },
  {
   "cell_type": "code",
   "execution_count": null,
   "id": "27050a2f",
   "metadata": {},
   "outputs": [],
   "source": [
    "from numpy import abs\n",
    "mean = 1.76\n",
    "stdDev = 0.075\n",
    "values = array([1.8, 1.9, 2.0])\n",
    "zScores = abs(values - mean)/stdDev\n",
    "print('Z scores = ', zScores)"
   ]
  },
  {
   "cell_type": "code",
   "execution_count": null,
   "id": "82ec6018",
   "metadata": {},
   "outputs": [],
   "source": [
    "from scipy import stats\n",
    "zScores = stats.zscore(values)\n",
    "print('Z scores = ', zScores)"
   ]
  },
  {
   "cell_type": "markdown",
   "id": "6af9b0f5",
   "metadata": {},
   "source": [
    "Note that SciPy provides the stats.zscore() function, but it operates differently because it estimates its own sample mean and sample. For details of z-scores, see: https://docs.scipy.org/doc/scipy/reference/generated/scipy.stats.mstats.zscore.html#scipy.stats.mstats.zscore"
   ]
  },
  {
   "cell_type": "code",
   "execution_count": null,
   "id": "944ed891",
   "metadata": {},
   "outputs": [],
   "source": [
    "from scipy.stats import zscore, norm\n",
    "samples = norm.rvs(mean, stdDev, size=3) # Values for testing\n",
    "zScores = zscore(samples, ddof=1) # Unbiased estimators\n",
    "print('Estimated Z scores = ', zScores)"
   ]
  },
  {
   "cell_type": "markdown",
   "id": "b129c770",
   "metadata": {},
   "source": [
    "A related concept to this is the Z-test, which can be used when we have samples that are taken from a normal distribution where the true mean and standard deviation are known. The Z-test is effectively the calculation of a Z-score for a sample mean. \n",
    "\n",
    "$$\n",
    "  z = \\frac{\\overline{x}-\\mu_{0}}{\\frac{\\sigma}{\\sqrt{n}}}\n",
    "$$"
   ]
  },
  {
   "cell_type": "code",
   "execution_count": null,
   "id": "a45e3158",
   "metadata": {},
   "outputs": [],
   "source": [
    "from numpy import sqrt\n",
    "from scipy.special import erf\n",
    "def zTestMean(sMean, nSamples, normMean, stdDev, oneSided=True):\n",
    "    zScore = abs(sMean - normMean) / (stdDev / sqrt(nSamples))\n",
    "    prob = 1-erf(zScore/sqrt(2))\n",
    "    if oneSided:\n",
    "        prob *= 0.5\n",
    "    return prob"
   ]
  },
  {
   "cell_type": "code",
   "execution_count": null,
   "id": "b98fdfb8",
   "metadata": {},
   "outputs": [],
   "source": [
    "samples = array([1.752, 1.818, 1.597, 1.697, 1.644, 1.593, 1.878, 1.648, 1.819, 1.794, 1.745, 1.827])\n",
    "mean = 1.76\n",
    "stDev = 0.075\n",
    "result = zTestMean(samples.mean(), len(samples), mean, stdDev, oneSided=True)\n",
    "print('Mean of Z-test = ', result)"
   ]
  },
  {
   "cell_type": "markdown",
   "id": "09a521b1",
   "metadata": {},
   "source": [
    "#### T-tests\n",
    "T-tests are like Z-tests, but will be used if we do not know the underlying mean and standard deviations of the probability distributions. The important difference compared to the Z-score is that the sample standard deviation (i.e., s) is used.\n",
    "\n",
    "$$\n",
    "  t = \\frac{\\overline{x}-\\mu_{x}}{\\frac{s}{\\sqrt{n}}}\n",
    "$$\n",
    "\n",
    "T-statistics and the two-tailed probability can be calculated using SciPy, as shown below. More details:\n",
    "https://docs.scipy.org/doc/scipy/reference/generated/scipy.stats.mstats.ttest_1samp.html#scipy.stats.mstats.ttest_1samp"
   ]
  },
  {
   "cell_type": "code",
   "execution_count": null,
   "id": "aa697000",
   "metadata": {},
   "outputs": [],
   "source": [
    "from scipy.stats import ttest_1samp\n",
    "trueMean = 1.76\n",
    "samples = array([1.752, 1.818, 1.597, 1.697, 1.644, 1.593, 1.878, 1.648, 1.819, 1.794, 1.745, 1.827])\n",
    "tStat, twoTailProb = ttest_1samp(samples, trueMean)\n",
    "print('T-statistic and two-tailed probability = ', tStat, twoTailProb)"
   ]
  },
  {
   "cell_type": "markdown",
   "id": "08f718dc",
   "metadata": {},
   "source": [
    "A T-test can be applied to determine whether two sets of samples, each from a normal distribution, have the same underlying mean, assuming that they have same variance."
   ]
  },
  {
   "cell_type": "code",
   "execution_count": null,
   "id": "af2ea2f6",
   "metadata": {},
   "outputs": [],
   "source": [
    "from scipy.stats import ttest_ind\n",
    "samples1 = array([1.752, 1.818, 1.597, 1.697, 1.644, 1.593])\n",
    "samples2 = array([1.878, 1.648, 1.819, 1.794, 1.745, 1.827])\n",
    "tStat, twoTailProb = ttest_ind(samples1, samples2)\n",
    "print('T-statistic and two-tailed probability = ', tStat, twoTailProb)"
   ]
  },
  {
   "cell_type": "markdown",
   "id": "ebaa4599",
   "metadata": {},
   "source": [
    "### 1-4- Correlation and covariance\n",
    "#### Covariance\n",
    "Covariance is a measure of whether two random variables vary simultaneously as their values increase or decrease. \n",
    "\n",
    "$$\n",
    "  \\sigma_{xy} = \\sum_{k=1}^n \\frac{(x_{i}-\\mu_{x})(y_{i}-\\mu_{y})}{N}\n",
    "$$\n",
    "\n",
    "Covariance can be calculated using NumPy library. Details: https://numpy.org/doc/stable/reference/generated/numpy.cov.html."
   ]
  },
  {
   "cell_type": "code",
   "execution_count": null,
   "id": "7c0e0e49",
   "metadata": {},
   "outputs": [],
   "source": [
    "from numpy import random, cov\n",
    "xVals = random.normal(0.0, 1.0, 100)\n",
    "yVals1 = random.normal(0.0, 1.0, 100) # Random, independent of xVals\n",
    "deltas = random.normal(0.0, 0.75, 100)\n",
    "yVals2 = 0.5 + 2.0 * (xVals - deltas) # Derived from xVals\n",
    "cov1 = cov(xVals, yVals1)\n",
    "cov1"
   ]
  },
  {
   "cell_type": "code",
   "execution_count": null,
   "id": "2c81f0d2",
   "metadata": {},
   "outputs": [],
   "source": [
    "cov2 = cov(xVals, yVals2)\n",
    "cov2"
   ]
  },
  {
   "cell_type": "markdown",
   "id": "33660099",
   "metadata": {},
   "source": [
    "This difference is because the matrix shows:\n",
    "\n",
    "$$\n",
    "\\left(\\begin{array}{cc} \n",
    "\\sigma_{x}^2 & \\sigma_{xy}\\\\ \n",
    "\\sigma_{yx} & \\sigma_{y}^2\n",
    "\\end{array}\\right)\n",
    "$$ \n"
   ]
  },
  {
   "cell_type": "markdown",
   "id": "a1ca5e62",
   "metadata": {},
   "source": [
    "#### Correlation coefficient\n",
    "Pearson’s correlation coefficient and it gives us a handy measure of how well two quantities are linearly correlated:\n",
    "\n",
    "$$\n",
    "  r = \\frac{\\sigma_{xy}}{\\sigma_{x}\\sigma_{y}}\n",
    "$$\n",
    "\n",
    "This correlation can be calculated using NumPy. Details: https://numpy.org/doc/stable/reference/generated/numpy.corrcoef.html"
   ]
  },
  {
   "cell_type": "code",
   "execution_count": null,
   "id": "6ad8305c",
   "metadata": {},
   "outputs": [],
   "source": [
    "from numpy import corrcoef\n",
    "r1 = corrcoef(xVals, yVals1)[0, 1]\n",
    "r2 = corrcoef(xVals, yVals2)[0, 1]\n",
    "print('Correlation between xVals and yVals1 = ', r1)\n",
    "print('Correlation between xVals and yVals2 = ', r2)"
   ]
  },
  {
   "cell_type": "markdown",
   "id": "53111d32",
   "metadata": {},
   "source": [
    "#### Simple linear regression\n",
    "\n",
    "Pearson’s correlation coefficient provides a handy way of doing a line fit called simple linear regression. The gradient of the line can be calculated by dividing the covariance of X and Y by the variance of X.  "
   ]
  },
  {
   "cell_type": "code",
   "execution_count": null,
   "id": "4cf71d53",
   "metadata": {},
   "outputs": [],
   "source": [
    "from numpy import cov, var, mean, random\n",
    "xVals = random.normal(0.0, 1.0, 100)\n",
    "yVals = 2.0 + -0.7 * xVals + random.normal(0.0, 0.2, 100)\n",
    "grad = cov(xVals, yVals)/var(xVals, ddof=1)\n",
    "yInt = mean(yVals) - grad * mean(xVals)\n",
    "print('LR 1:', grad[0, 1], yInt[0, 1]) # there was a mistake in the code!"
   ]
  },
  {
   "cell_type": "markdown",
   "id": "5f302710",
   "metadata": {},
   "source": [
    "You can see that the fitted line has a gradient and intercept close to the artificial test values of -0.7 and 2.0.\n",
    "\n",
    "Parameters of the linear regression can be calculated using SciPy. Details: https://docs.scipy.org/doc/scipy/reference/generated/scipy.stats.linregress.html"
   ]
  },
  {
   "cell_type": "code",
   "execution_count": null,
   "id": "dfbccfeb",
   "metadata": {},
   "outputs": [],
   "source": [
    "from scipy.stats import linregress\n",
    "linregress(xVals, yVals)"
   ]
  },
  {
   "cell_type": "code",
   "execution_count": null,
   "id": "433e06ca",
   "metadata": {},
   "outputs": [],
   "source": [
    "xValsFit = [xVals.min(),xVals.max()]\n",
    "yValsFit = [yInt[0, 1] + x*grad[0, 1] for x in xValsFit] # same mistake in the code!\n",
    "pyplot.plot(xVals, yVals, 'o')\n",
    "pyplot.plot(xValsFit, yValsFit)\n",
    "pyplot.show()"
   ]
  },
  {
   "cell_type": "markdown",
   "id": "94fa5210",
   "metadata": {},
   "source": [
    "## 2- Clustering and discrimination\n",
    "### 2-2- Clustering methods\n",
    "#### Simple threshold clustering\n",
    "This method groups items of data into clusters based upon how close (similar) the items of data are. The algorithm works by initially considering an item of data as a potentially separate cluster and then expands the cluster by adding any other\n",
    "items that are sufficiently close, i.e. the distance between data points is less than a threshold."
   ]
  },
  {
   "cell_type": "code",
   "execution_count": 1,
   "id": "02ad9276",
   "metadata": {},
   "outputs": [],
   "source": [
    "#function to calculate Euclidian distance between two items\n",
    "from numpy import dot, sqrt\n",
    "def euclideanDist(vectorA, vectorB):\n",
    "    diff = vectorA-vectorB\n",
    "    return sqrt(dot(diff,diff))"
   ]
  },
  {
   "cell_type": "code",
   "execution_count": 2,
   "id": "7458db6b",
   "metadata": {},
   "outputs": [],
   "source": [
    "#function to calculate distances of items and identify neighbours\n",
    "def findNeighbours(data, distFunc, threshold):\n",
    "    neighbourDict = {}\n",
    "    n = len(data)\n",
    "    for i in range(n):\n",
    "        neighbourDict[i] = []\n",
    "    for i in range(0,n-1):\n",
    "        for j in range(i+1,n):\n",
    "            dist = distFunc(data[i], data[j])\n",
    "            if dist < threshold:\n",
    "                neighbourDict[i].append(j)\n",
    "                neighbourDict[j].append(i)\n",
    "    return neighbourDict"
   ]
  },
  {
   "cell_type": "code",
   "execution_count": 3,
   "id": "a3355b3f",
   "metadata": {},
   "outputs": [],
   "source": [
    "#\n",
    "def simpleCluster(data, threshold, distFunc=euclideanDist):\n",
    "    neighbourDict = findNeighbours(data, distFunc, threshold)\n",
    "    clusters = []\n",
    "    pool = set(range(len(data)))\n",
    "    while pool:\n",
    "        i = pool.pop()\n",
    "        neighbours = neighbourDict[i]\n",
    "        cluster = set()\n",
    "        cluster.add(i)\n",
    "        pool2 = set(neighbours)\n",
    "        while pool2:\n",
    "            j = pool2.pop()\n",
    "            if j in pool:\n",
    "                pool.remove(j)\n",
    "                cluster.add(j)\n",
    "                neighbours2 = neighbourDict[j]\n",
    "                pool2.update(neighbours2)\n",
    "        clusters.append(cluster)\n",
    "    clusterData = []\n",
    "    for cluster in clusters:\n",
    "        clusterData.append( [data[i] for i in cluster] )\n",
    "    return clusterData"
   ]
  },
  {
   "cell_type": "code",
   "execution_count": 4,
   "id": "52331857",
   "metadata": {},
   "outputs": [],
   "source": [
    "from numpy import random, vstack\n",
    "spread = 0.12\n",
    "sizeDims = (100,2)\n",
    "data = [random.normal(( 0.0, 0.0), spread, sizeDims),\n",
    "        random.normal(( 1.0, 1.0), spread, sizeDims),\n",
    "        random.normal(( 1.0, 0.0), spread, sizeDims)]\n",
    "data = vstack(data) # Stack arrays (concatenation)\n",
    "random.shuffle(data) # Randomise order\n",
    "clusters = simpleCluster(data, 0.10)"
   ]
  },
  {
   "cell_type": "code",
   "execution_count": 5,
   "id": "470397b4",
   "metadata": {
    "scrolled": true
   },
   "outputs": [
    {
     "data": {
      "text/plain": [
       "[[array([1.26582957, 0.02817303]),\n",
       "  array([ 1.16251191, -0.19946978]),\n",
       "  array([ 1.09260311, -0.03134616]),\n",
       "  array([ 1.27746788, -0.16121291]),\n",
       "  array([0.84869529, 0.11877617]),\n",
       "  array([ 0.97557973, -0.25675528]),\n",
       "  array([0.90089506, 0.05744822]),\n",
       "  array([ 1.03016425, -0.07169498]),\n",
       "  array([0.9223908 , 0.07473996]),\n",
       "  array([0.9404232 , 0.07920851]),\n",
       "  array([ 1.01229531, -0.09505683]),\n",
       "  array([1.0634849 , 0.13308523]),\n",
       "  array([0.78685919, 0.00145914]),\n",
       "  array([0.92576139, 0.14242274]),\n",
       "  array([1.04194136, 0.07531366]),\n",
       "  array([0.87468773, 0.02957618]),\n",
       "  array([0.95077309, 0.08416037]),\n",
       "  array([1.06901434, 0.09352617]),\n",
       "  array([ 0.97806609, -0.00762273]),\n",
       "  array([1.13577157, 0.05593144]),\n",
       "  array([1.07725757, 0.0710149 ]),\n",
       "  array([0.80595886, 0.00970632]),\n",
       "  array([ 1.05197596, -0.26676904]),\n",
       "  array([ 0.86028022, -0.00493502]),\n",
       "  array([ 0.98733801, -0.08003377]),\n",
       "  array([ 1.04642495, -0.06390846]),\n",
       "  array([0.97127849, 0.03390114]),\n",
       "  array([ 0.99282613, -0.14866709]),\n",
       "  array([ 0.72531711, -0.08358894]),\n",
       "  array([ 1.06314078, -0.29550278]),\n",
       "  array([0.98570305, 0.07480349]),\n",
       "  array([ 0.9808045 , -0.15666024]),\n",
       "  array([ 1.0108401 , -0.06866393]),\n",
       "  array([ 0.89489212, -0.01408213]),\n",
       "  array([ 1.08557898, -0.14233368]),\n",
       "  array([0.99259045, 0.05883963]),\n",
       "  array([0.93868645, 0.19883657]),\n",
       "  array([1.20049146, 0.00720111]),\n",
       "  array([ 0.97853576, -0.04484246]),\n",
       "  array([1.07656156, 0.03540588]),\n",
       "  array([ 1.02395871, -0.16801915]),\n",
       "  array([0.95365716, 0.14960397]),\n",
       "  array([ 0.85418743, -0.11921924]),\n",
       "  array([ 1.16044828, -0.04750631]),\n",
       "  array([1.26142519, 0.07360623]),\n",
       "  array([ 0.89312795, -0.05211995]),\n",
       "  array([ 1.08331249, -0.05046858]),\n",
       "  array([ 1.01677995, -0.11010058]),\n",
       "  array([1.02138847, 0.03125586]),\n",
       "  array([0.93728519, 0.12620179]),\n",
       "  array([ 0.94765833, -0.05944303]),\n",
       "  array([ 0.90723151, -0.16642697]),\n",
       "  array([ 0.93342841, -0.03790782]),\n",
       "  array([0.91225198, 0.07871451]),\n",
       "  array([ 1.09562017, -0.10671054]),\n",
       "  array([1.03407837, 0.02492869]),\n",
       "  array([ 0.78613221, -0.04995015]),\n",
       "  array([0.87322733, 0.13538397]),\n",
       "  array([ 0.73034181, -0.06547351]),\n",
       "  array([ 0.91001177, -0.06018244]),\n",
       "  array([1.0346456 , 0.00241896]),\n",
       "  array([0.87418133, 0.02885798]),\n",
       "  array([1.09388047, 0.09976805]),\n",
       "  array([0.9293684 , 0.23667699]),\n",
       "  array([1.09091206, 0.07870227]),\n",
       "  array([1.06587632, 0.04662167]),\n",
       "  array([0.96143499, 0.13898252]),\n",
       "  array([ 1.02489929, -0.16623043]),\n",
       "  array([ 1.04151606, -0.15496306]),\n",
       "  array([0.97657693, 0.01230959]),\n",
       "  array([ 0.79292766, -0.05164964]),\n",
       "  array([ 0.93976756, -0.20555343]),\n",
       "  array([1.11169646, 0.00803243]),\n",
       "  array([ 0.9652841 , -0.19541753]),\n",
       "  array([ 0.9789279 , -0.15919624]),\n",
       "  array([ 0.91917579, -0.0258719 ]),\n",
       "  array([1.00552814, 0.11594102]),\n",
       "  array([1.05100273, 0.00914157]),\n",
       "  array([0.87526295, 0.01654969]),\n",
       "  array([1.12748497, 0.08977795]),\n",
       "  array([ 0.95241959, -0.04548855]),\n",
       "  array([0.98740014, 0.04065422]),\n",
       "  array([ 0.95077553, -0.09223109]),\n",
       "  array([ 1.07191987, -0.04779301]),\n",
       "  array([ 1.11794333, -0.17022976]),\n",
       "  array([0.94906271, 0.03267114]),\n",
       "  array([ 1.19880663, -0.1234689 ]),\n",
       "  array([1.04013172, 0.03129331]),\n",
       "  array([0.99496927, 0.04910597]),\n",
       "  array([0.97113271, 0.16506393]),\n",
       "  array([ 1.00850838, -0.08609034]),\n",
       "  array([1.07550401, 0.02222698]),\n",
       "  array([0.96364779, 0.06173348]),\n",
       "  array([ 1.00439123, -0.06124151])],\n",
       " [array([0.86916442, 0.83660594]),\n",
       "  array([1.13197102, 1.07907971]),\n",
       "  array([1.02348209, 0.94184712]),\n",
       "  array([0.98705364, 1.08633917]),\n",
       "  array([1.14148121, 0.8981232 ]),\n",
       "  array([1.13573995, 0.84743159]),\n",
       "  array([0.98173136, 1.06317017]),\n",
       "  array([1.12766082, 0.97647609]),\n",
       "  array([0.86705654, 0.9481366 ]),\n",
       "  array([0.92331792, 1.04738513]),\n",
       "  array([0.95895459, 1.09590216]),\n",
       "  array([1.14938784, 1.10373262]),\n",
       "  array([1.01467783, 1.00103509]),\n",
       "  array([1.24446931, 0.93072701]),\n",
       "  array([1.0971889 , 1.08525573]),\n",
       "  array([0.81489507, 0.95772799]),\n",
       "  array([0.94958142, 0.95178794]),\n",
       "  array([1.05560858, 0.72020081]),\n",
       "  array([0.74860812, 0.98455299]),\n",
       "  array([0.87291329, 0.96799027]),\n",
       "  array([1.04847966, 1.19581405]),\n",
       "  array([1.12103253, 0.79109683]),\n",
       "  array([0.98546883, 0.86408159]),\n",
       "  array([0.86014629, 1.09112206]),\n",
       "  array([1.21313761, 1.03880011]),\n",
       "  array([1.00268877, 0.91635915]),\n",
       "  array([1.10323055, 1.00999433]),\n",
       "  array([0.97282394, 0.94231894]),\n",
       "  array([1.06099454, 1.0171649 ]),\n",
       "  array([1.12074358, 1.0110213 ]),\n",
       "  array([1.00009423, 0.92672424]),\n",
       "  array([1.0401989 , 1.05026386]),\n",
       "  array([0.92178267, 1.13326394]),\n",
       "  array([1.03691205, 1.19449794]),\n",
       "  array([1.106852  , 1.21013323]),\n",
       "  array([0.86280698, 0.93283108]),\n",
       "  array([0.81583861, 1.03859852]),\n",
       "  array([0.90665875, 1.04942774]),\n",
       "  array([1.05944419, 1.09290763]),\n",
       "  array([1.14737274, 0.98854747]),\n",
       "  array([0.99220978, 0.97897849]),\n",
       "  array([1.1185045 , 1.01570224]),\n",
       "  array([1.085349  , 1.02536724]),\n",
       "  array([0.88364944, 0.87907477]),\n",
       "  array([1.07166909, 0.86831271]),\n",
       "  array([0.95544601, 0.82914178]),\n",
       "  array([1.00573741, 0.94738722]),\n",
       "  array([1.15419548, 0.90961175]),\n",
       "  array([0.88821848, 1.02688862]),\n",
       "  array([0.98757871, 1.022841  ]),\n",
       "  array([1.21863277, 1.06464908]),\n",
       "  array([1.19620998, 0.9897697 ]),\n",
       "  array([0.92768438, 1.06570466]),\n",
       "  array([0.94294222, 1.15145414]),\n",
       "  array([1.04944659, 0.92682091]),\n",
       "  array([1.07392397, 0.99873587]),\n",
       "  array([1.04768366, 0.89906077]),\n",
       "  array([1.12053088, 1.14048173]),\n",
       "  array([1.04291796, 1.00383023]),\n",
       "  array([1.16007412, 0.97610939]),\n",
       "  array([0.94419995, 0.90753103]),\n",
       "  array([1.07245798, 0.94750101]),\n",
       "  array([0.98809217, 0.8542032 ]),\n",
       "  array([0.89807304, 1.0021734 ]),\n",
       "  array([0.87810226, 1.1720964 ]),\n",
       "  array([0.91574544, 0.9773246 ]),\n",
       "  array([1.06694888, 1.09770263]),\n",
       "  array([1.01981842, 1.039628  ]),\n",
       "  array([0.99167956, 0.82924549]),\n",
       "  array([0.90275656, 1.05545024]),\n",
       "  array([0.87508485, 1.01578305]),\n",
       "  array([0.96775121, 0.92192188]),\n",
       "  array([0.99481279, 0.96041821]),\n",
       "  array([1.03660701, 0.98918206]),\n",
       "  array([1.04898235, 0.88313199]),\n",
       "  array([1.0080157 , 1.07771271]),\n",
       "  array([1.02185127, 0.98099609]),\n",
       "  array([1.15316567, 0.92713891]),\n",
       "  array([1.08711341, 0.95557712]),\n",
       "  array([1.00103381, 1.03692029]),\n",
       "  array([0.95493568, 1.10759786]),\n",
       "  array([1.15214371, 1.1538051 ]),\n",
       "  array([1.07386814, 1.09346056]),\n",
       "  array([1.08167524, 1.11639211]),\n",
       "  array([0.95422255, 0.89954208]),\n",
       "  array([0.84829636, 1.16909093]),\n",
       "  array([0.88424727, 1.05579721]),\n",
       "  array([1.00709093, 0.9664817 ]),\n",
       "  array([1.25461355, 0.93572094]),\n",
       "  array([1.05540271, 1.01647844]),\n",
       "  array([0.89188425, 1.11587531]),\n",
       "  array([0.93502963, 0.86557829]),\n",
       "  array([0.89489704, 0.88789248]),\n",
       "  array([0.77218994, 0.93241673]),\n",
       "  array([0.86643015, 1.0380025 ]),\n",
       "  array([0.97718463, 1.1388228 ])],\n",
       " [array([1.03711522, 0.24243064])],\n",
       " [array([-0.02747077, -0.07430908]),\n",
       "  array([ 0.00746399, -0.05886965]),\n",
       "  array([ 0.1318823 , -0.06696382]),\n",
       "  array([-0.06432325, -0.00669501]),\n",
       "  array([-0.01962178,  0.07731233]),\n",
       "  array([-0.17325036, -0.10153045]),\n",
       "  array([-0.06554985,  0.10235977]),\n",
       "  array([-0.08403701,  0.16163505]),\n",
       "  array([0.08696895, 0.05032915]),\n",
       "  array([-0.24777198,  0.14649471]),\n",
       "  array([0.00575147, 0.15547822]),\n",
       "  array([0.03633535, 0.01823554]),\n",
       "  array([-0.13829713, -0.15393348]),\n",
       "  array([0.01973318, 0.05337456]),\n",
       "  array([ 0.06748077, -0.01106113]),\n",
       "  array([-0.24952803, -0.0429226 ]),\n",
       "  array([0.07818395, 0.0710204 ]),\n",
       "  array([-0.03225635,  0.04280201]),\n",
       "  array([ 0.0527576 , -0.10794897]),\n",
       "  array([-0.18254954, -0.1376975 ]),\n",
       "  array([-0.09047697, -0.105466  ]),\n",
       "  array([-0.09213685, -0.01928038]),\n",
       "  array([ 0.16525804, -0.02094272]),\n",
       "  array([-0.09349758, -0.00752711]),\n",
       "  array([-0.02793881, -0.13057517]),\n",
       "  array([-0.08653355, -0.02550283]),\n",
       "  array([ 0.1991658 , -0.10633921]),\n",
       "  array([-0.020855  , -0.08077547]),\n",
       "  array([0.15619169, 0.11257097]),\n",
       "  array([ 0.00384157, -0.00533986]),\n",
       "  array([-0.16362441,  0.10854708]),\n",
       "  array([-0.09910292, -0.12238525]),\n",
       "  array([-0.12570158,  0.24332498]),\n",
       "  array([-0.05601348,  0.03723268]),\n",
       "  array([0.14285722, 0.08229693]),\n",
       "  array([0.01373898, 0.06910175]),\n",
       "  array([-0.16850431,  0.04836429]),\n",
       "  array([ 0.03849114, -0.08980543]),\n",
       "  array([-0.10836722, -0.07430891]),\n",
       "  array([ 0.06494859, -0.0553917 ]),\n",
       "  array([-0.05287402, -0.01072116]),\n",
       "  array([-0.18107128,  0.09690639]),\n",
       "  array([0.17413862, 0.04753992]),\n",
       "  array([-0.0324013 ,  0.10146545]),\n",
       "  array([0.0968893 , 0.05648925]),\n",
       "  array([0.12562438, 0.01555609]),\n",
       "  array([-0.0453935 ,  0.06582418]),\n",
       "  array([-0.10718142,  0.00343301]),\n",
       "  array([-0.06221996,  0.06685025]),\n",
       "  array([-0.14773672, -0.0172766 ]),\n",
       "  array([-0.03027855,  0.01822871]),\n",
       "  array([-0.05422983,  0.070948  ]),\n",
       "  array([-0.00815317,  0.11572931]),\n",
       "  array([ 0.18124103, -0.18890163]),\n",
       "  array([0.14282914, 0.00748248]),\n",
       "  array([-0.11243635,  0.00768197]),\n",
       "  array([-0.16611881,  0.01286057]),\n",
       "  array([-0.0601055 ,  0.02142562]),\n",
       "  array([-0.00277873, -0.00596699]),\n",
       "  array([ 0.11029558, -0.217826  ]),\n",
       "  array([-0.09778949,  0.0103772 ]),\n",
       "  array([0.15064244, 0.12409993]),\n",
       "  array([-0.00193432, -0.01672242]),\n",
       "  array([0.13295211, 0.0572358 ]),\n",
       "  array([ 0.07013937, -0.00673463]),\n",
       "  array([-0.08287246, -0.01871386]),\n",
       "  array([-0.23299126, -0.16972455]),\n",
       "  array([-0.02932315,  0.11067153]),\n",
       "  array([ 0.01136972, -0.12797248]),\n",
       "  array([ 0.01046385, -0.09357107]),\n",
       "  array([-0.03370101, -0.146275  ]),\n",
       "  array([0.09988627, 0.14547599]),\n",
       "  array([0.13760703, 0.0007083 ]),\n",
       "  array([-0.2769809 , -0.02087481]),\n",
       "  array([0.07224302, 0.04046881]),\n",
       "  array([ 0.0286823 , -0.11103832]),\n",
       "  array([-0.12069834, -0.11419404]),\n",
       "  array([-0.11588438, -0.01459916]),\n",
       "  array([-0.03106237, -0.06119756]),\n",
       "  array([0.03748222, 0.01529082]),\n",
       "  array([-0.0641615 ,  0.27776453]),\n",
       "  array([-0.08518211,  0.00990515]),\n",
       "  array([0.09728436, 0.14953537]),\n",
       "  array([0.17534936, 0.02894091]),\n",
       "  array([0.1078375 , 0.06969632]),\n",
       "  array([ 0.06072959, -0.01780501]),\n",
       "  array([-0.07497305, -0.04556626]),\n",
       "  array([0.15658656, 0.14815903]),\n",
       "  array([ 0.13051838, -0.02036383]),\n",
       "  array([-0.00569668, -0.02415085]),\n",
       "  array([-0.03535652, -0.07541021]),\n",
       "  array([-0.02910702, -0.11011209]),\n",
       "  array([0.16082086, 0.03353045])],\n",
       " [array([0.8828289 , 0.69021699]), array([0.90410188, 0.68334487])],\n",
       " [array([ 0.01207122, -0.24362103]),\n",
       "  array([-0.04822207, -0.27475822]),\n",
       "  array([-0.07138626, -0.26992047])],\n",
       " [array([0.7730238 , 0.79772038])],\n",
       " [array([0.26179423, 0.21601365])],\n",
       " [array([ 1.45578269, -0.01620446])],\n",
       " [array([ 0.72207867, -0.1872481 ]), array([ 0.66792413, -0.23250243])],\n",
       " [array([0.64266902, 0.94219295])],\n",
       " [array([0.1179005 , 0.28696611])],\n",
       " [array([0.77797435, 0.194145  ])],\n",
       " [array([-0.36099975, -0.18661759])],\n",
       " [array([1.26000668, 0.28545369])],\n",
       " [array([ 0.33110089, -0.08564256])]]"
      ]
     },
     "execution_count": 5,
     "metadata": {},
     "output_type": "execute_result"
    }
   ],
   "source": [
    "clusters"
   ]
  },
  {
   "cell_type": "code",
   "execution_count": 6,
   "id": "32ba3a58",
   "metadata": {},
   "outputs": [
    {
     "data": {
      "image/png": "[encoded data removed]",
      "text/plain": [
       "<Figure size 432x288 with 1 Axes>"
      ]
     },
     "metadata": {
      "needs_background": "light"
     },
     "output_type": "display_data"
    }
   ],
   "source": [
    "#\n",
    "from matplotlib import pyplot\n",
    "colors = ['#F0F0F0','#A0A0A0','#505050', '#D0D0D0','#808080','#202020']\n",
    "markers = ['d','o','s','>','^']\n",
    "i = 0\n",
    "for cluster in clusters:\n",
    "    allX, allY = zip(*cluster)\n",
    "    if len(cluster) > 3:\n",
    "        color = colors[i % len(colors)]\n",
    "        marker = markers[i % len(markers)]\n",
    "        pyplot.scatter(allX, allY, s=30, c=color, marker=marker)\n",
    "        i += 1\n",
    "    else:\n",
    "        pyplot.scatter(allX, allY, s=5, c='black', marker='P')\n",
    "pyplot.show()"
   ]
  },
  {
   "cell_type": "markdown",
   "id": "5d7f2701",
   "metadata": {},
   "source": [
    "#### Density-based clustering"
   ]
  },
  {
   "cell_type": "code",
   "execution_count": 7,
   "id": "14b94a16",
   "metadata": {},
   "outputs": [],
   "source": [
    "def dbScanCluster(data, threshold, minNeighbour, distFunc=euclideanDist):\n",
    "    neighbourDict = findNeighbours(data, distFunc, threshold)\n",
    "    clusters = []\n",
    "    noise = set()\n",
    "    pool = set(range(len(data)))\n",
    "    while pool:\n",
    "        i = pool.pop()\n",
    "        neighbours = neighbourDict[i]\n",
    "        if len(neighbours) < minNeighbour:\n",
    "            noise.add(i)\n",
    "        else:\n",
    "            cluster = set()\n",
    "            cluster.add(i)\n",
    "            pool2 = set(neighbours)\n",
    "            while pool2:\n",
    "                j = pool2.pop()\n",
    "                if j in pool:\n",
    "                    pool.remove(j)\n",
    "                    neighbours2 = neighbourDict.get(j, [])\n",
    "                    if len(neighbours2) < minNeighbour:\n",
    "                        noise.add(j)\n",
    "                else:\n",
    "                    pool2.update(neighbours2)\n",
    "                    cluster.add(j)\n",
    "            clusters.append(cluster)\n",
    "    noiseData = [data[i] for i in noise]\n",
    "    clusterData = []\n",
    "    for cluster in clusters:\n",
    "        clusterData.append( [data[i] for i in cluster] )\n",
    "    return clusterData, noiseData"
   ]
  },
  {
   "cell_type": "code",
   "execution_count": 8,
   "id": "a40e2ecb",
   "metadata": {},
   "outputs": [],
   "source": [
    "# clusters, noise = dbScanCluster(data, 0.10, 2) # this took 3 hours, but no result! - perhaps wrong code or something!"
   ]
  },
  {
   "cell_type": "markdown",
   "id": "6660c715",
   "metadata": {},
   "source": [
    "#### K-means clustering"
   ]
  },
  {
   "cell_type": "code",
   "execution_count": 9,
   "id": "1820f307",
   "metadata": {},
   "outputs": [],
   "source": [
    "from numpy import array, random\n",
    "from random import sample\n",
    "def kMeans(data, k, centers=None):\n",
    "    if centers is None:\n",
    "        centers = array(sample(list(data), k))\n",
    "    change = 1.0\n",
    "    while change > 1e-8:\n",
    "        clusters = [[] for x in range(k)]\n",
    "        for vector in data:\n",
    "            diffs = centers - vector\n",
    "            dists = (diffs * diffs).sum(axis=1)\n",
    "            closest = dists.argmin()\n",
    "            clusters[closest].append(vector)\n",
    "        change = 0\n",
    "        for i, cluster in enumerate(clusters):\n",
    "            cluster = array(cluster)\n",
    "            center = cluster.sum(axis=0)/len(cluster)\n",
    "            diff = center - centers[i]\n",
    "            change += (diff * diff).sum()\n",
    "            centers[i] = center\n",
    "    return centers, clusters"
   ]
  },
  {
   "cell_type": "code",
   "execution_count": 10,
   "id": "65598ec5",
   "metadata": {},
   "outputs": [],
   "source": [
    "# k-menas clustering with \n",
    "testDataA = random.random((1000,2)) # No clumps\n",
    "centers, clusters = kMeans(testDataA, 3)"
   ]
  },
  {
   "cell_type": "code",
   "execution_count": 11,
   "id": "cda0d473",
   "metadata": {},
   "outputs": [
    {
     "data": {
      "text/plain": [
       "array([[0.43651403, 0.20524642],\n",
       "       [0.79208121, 0.63674194],\n",
       "       [0.25526859, 0.69716917]])"
      ]
     },
     "execution_count": 11,
     "metadata": {},
     "output_type": "execute_result"
    }
   ],
   "source": [
    "centers"
   ]
  },
  {
   "cell_type": "code",
   "execution_count": 30,
   "id": "4515663e",
   "metadata": {
    "scrolled": true
   },
   "outputs": [],
   "source": [
    "clusters"
   ]
  },
  {
   "cell_type": "code",
   "execution_count": 13,
   "id": "f17e3f20",
   "metadata": {},
   "outputs": [],
   "source": [
    "testDataB1 = random.normal(0.0, 2.0, (100,2))\n",
    "testDataB2 = random.normal(7.0, 2.0, (100,2))\n",
    "testDataB = vstack([testDataB1, testDataB2]) # Two clumps\n",
    "centers, clusters = kMeans(testDataB, 4)"
   ]
  },
  {
   "cell_type": "code",
   "execution_count": null,
   "metadata": {},
   "outputs": [],
   "source": [
    "centers"
   ]
  },
  {
   "cell_type": "code",
   "execution_count": null,
   "id": "0969b8ae",
   "metadata": {},
   "outputs": [],
   "source": [
    "clusters"
   ]
  },
  {
   "cell_type": "code",
   "execution_count": 14,
   "id": "6d60c18a",
   "metadata": {},
   "outputs": [
    {
     "data": {
      "image/png": "[encoded data removed]",
      "text/plain": [
       "<Figure size 432x288 with 1 Axes>"
      ]
     },
     "metadata": {
      "needs_background": "light"
     },
     "output_type": "display_data"
    }
   ],
   "source": [
    "# plot clustering \n",
    "from matplotlib import pyplot\n",
    "colors = ['#FF0000','#00FF00','#0000FF','#FFFF00','#00FFFF','#FF00FF']\n",
    "for i, cluster in enumerate(clusters):\n",
    "    x, y = zip(*cluster)\n",
    "    color = colors[i % len(colors)]\n",
    "    pyplot.scatter(x, y, c=color, marker='o')\n",
    "x, y = zip(*centers)\n",
    "pyplot.scatter(x, y, s=40, c='black', marker='o')\n",
    "pyplot.show()"
   ]
  },
  {
   "cell_type": "markdown",
   "id": "2c4be5b5",
   "metadata": {},
   "source": [
    "#### Improving k-means"
   ]
  },
  {
   "cell_type": "code",
   "execution_count": 37,
   "id": "586eb071",
   "metadata": {},
   "outputs": [],
   "source": [
    "from numpy import zeros, ones, vstack\n",
    "from random import randint\n",
    "def kMeansSpread(data, k):\n",
    "    n = len(data)\n",
    "    index = randint(0, n-1)\n",
    "    indices = set([index])\n",
    "    influence = zeros(n)\n",
    "    while len(indices) < k:\n",
    "        diff = data - data[index]\n",
    "        sumSq = (diff * diff).sum(axis=1) + 1.0\n",
    "        influence += 1.0 / sumSq\n",
    "        index = influence.argmin()\n",
    "        while index in indices:\n",
    "            index = randint(0, n-1)\n",
    "        indices.add(index)\n",
    "    centers = vstack([data[i] for i in indices])\n",
    "    return kMeans(data, k, centers)"
   ]
  },
  {
   "cell_type": "code",
   "execution_count": 39,
   "id": "13520547",
   "metadata": {},
   "outputs": [],
   "source": [
    "centers, clusters = kMeansSpread(testDataB, 4)"
   ]
  },
  {
   "cell_type": "code",
   "execution_count": 40,
   "id": "b21740d9",
   "metadata": {},
   "outputs": [
    {
     "data": {
      "image/png": "[encoded data removed]",
      "text/plain": [
       "<Figure size 432x288 with 1 Axes>"
      ]
     },
     "metadata": {
      "needs_background": "light"
     },
     "output_type": "display_data"
    }
   ],
   "source": [
    "# plot clustering \n",
    "from matplotlib import pyplot\n",
    "colors = ['#FF0000','#00FF00','#0000FF','#FFFF00','#00FFFF','#FF00FF']\n",
    "for i, cluster in enumerate(clusters):\n",
    "    x, y = zip(*cluster)\n",
    "    color = colors[i % len(colors)]\n",
    "    pyplot.scatter(x, y, c=color, marker='o')\n",
    "x, y = zip(*centers)\n",
    "pyplot.scatter(x, y, s=40, c='black', marker='o')\n",
    "pyplot.show()"
   ]
  },
  {
   "cell_type": "markdown",
   "id": "3737c11c",
   "metadata": {},
   "source": [
    "K-means clustering can be done with Scikit-Learn library. Details are available: https://scikit-learn.org/stable/modules/generated/sklearn.cluster.KMeans.html."
   ]
  },
  {
   "cell_type": "code",
   "execution_count": 35,
   "id": "8963cce6",
   "metadata": {
    "scrolled": true
   },
   "outputs": [
    {
     "data": {
      "text/plain": [
       "array([1, 1, 1, 3, 1, 3, 1, 3, 1, 3, 1, 1, 3, 3, 1, 1, 3, 3, 1, 3, 1, 1,\n",
       "       1, 1, 3, 1, 1, 3, 3, 1, 1, 3, 1, 1, 1, 3, 3, 1, 3, 3, 3, 3, 3, 3,\n",
       "       1, 3, 1, 1, 3, 3, 1, 3, 3, 1, 3, 1, 1, 1, 1, 1, 1, 3, 3, 3, 3, 1,\n",
       "       1, 3, 3, 1, 1, 3, 1, 1, 3, 1, 1, 1, 3, 1, 1, 1, 3, 1, 3, 1, 1, 1,\n",
       "       3, 1, 3, 3, 1, 1, 1, 3, 1, 3, 3, 1, 0, 2, 2, 0, 0, 2, 2, 2, 0, 0,\n",
       "       0, 2, 0, 0, 2, 0, 2, 2, 0, 2, 2, 0, 2, 2, 2, 0, 0, 0, 2, 0, 2, 2,\n",
       "       0, 0, 2, 2, 2, 0, 2, 0, 0, 2, 2, 0, 2, 0, 0, 2, 0, 2, 0, 0, 0, 2,\n",
       "       0, 2, 0, 2, 0, 2, 2, 2, 2, 0, 2, 0, 0, 0, 2, 2, 0, 0, 2, 2, 0, 0,\n",
       "       2, 2, 2, 2, 0, 2, 0, 2, 0, 0, 2, 2, 0, 2, 2, 0, 0, 2, 0, 0, 2, 0,\n",
       "       0, 2])"
      ]
     },
     "execution_count": 35,
     "metadata": {},
     "output_type": "execute_result"
    }
   ],
   "source": [
    "from sklearn.cluster import KMeans\n",
    "kmeans = KMeans(n_clusters=4).fit(testDataB)\n",
    "kmeans.labels_"
   ]
  },
  {
   "cell_type": "code",
   "execution_count": 36,
   "id": "ab882c03",
   "metadata": {},
   "outputs": [
    {
     "data": {
      "text/plain": [
       "<AxesSubplot:xlabel='col_1', ylabel='col_2'>"
      ]
     },
     "execution_count": 36,
     "metadata": {},
     "output_type": "execute_result"
    },
    {
     "data": {
      "image/png": "[encoded data removed]",
      "text/plain": [
       "<Figure size 432x288 with 1 Axes>"
      ]
     },
     "metadata": {
      "needs_background": "light"
     },
     "output_type": "display_data"
    }
   ],
   "source": [
    "# plot clusters made with Scikit-Learn library \n",
    "import pandas as pd    \n",
    "import seaborn as sns\n",
    "testDataB_df = pd.DataFrame(testDataB, columns=['col_1', 'col_2'])\n",
    "testDataB_df['cluster'] = kmeans.labels_\n",
    "sns.scatterplot(data = testDataB_df, x = 'col_1', y = 'col_2', hue = 'cluster')"
   ]
  },
  {
   "cell_type": "markdown",
   "id": "4ad5bd04",
   "metadata": {},
   "source": [
    "### 2-3- Data discrimination\n",
    "#### Principal component analysis\n",
    "Principal component analysis (PCA) gives the eigenvectors of the covariance matrix. Taking the eigenvalues of these in size order we can find the most significant [or] principal components that account for most of the variance in the data."
   ]
  },
  {
   "cell_type": "code",
   "execution_count": 60,
   "id": "885461f9",
   "metadata": {},
   "outputs": [],
   "source": [
    "from numpy import cov, linalg, sqrt, zeros, ones, diag\n",
    "def principalComponentAnalysis(data, n):\n",
    "    samples, features = data.shape\n",
    "    meanVec = data.mean(axis=0)\n",
    "    dataC = (data - meanVec).T\n",
    "    covar = cov(dataC)\n",
    "    evals, evecs = linalg.eig(covar)\n",
    "    indices = evals.argsort()[::-1]\n",
    "    evecs = evecs[:,indices]\n",
    "    basis = evecs[:,:n]\n",
    "    energy = evals[:n].sum()\n",
    "    # norm wrt to variance\n",
    "    #sd = sqrt(diag(covar))\n",
    "    #zscores = dataC.T / sd\n",
    "    return basis, energy"
   ]
  },
  {
   "cell_type": "code",
   "execution_count": 61,
   "id": "217d810f",
   "metadata": {},
   "outputs": [
    {
     "data": {
      "text/plain": [
       "array([[ 2.76870792e+00, -3.56735187e-01],\n",
       "       [ 2.99841285e+00,  2.33266402e+00],\n",
       "       [ 4.69185563e+00,  1.76974915e+00],\n",
       "       [ 5.98335925e+00,  2.33261658e+00],\n",
       "       [ 7.04161555e+00,  3.19590614e+00],\n",
       "       [ 1.55905510e+00,  1.79666654e+00],\n",
       "       [-1.79591858e+00, -8.74564204e-01],\n",
       "       [-3.41176948e+00, -1.68450603e+00],\n",
       "       [-5.47181177e+00, -1.85528247e+00],\n",
       "       [ 2.69188380e-01,  5.34953142e-01],\n",
       "       [-2.32223068e-03,  9.03586092e-01],\n",
       "       [ 1.51202660e+00,  4.93794600e-02],\n",
       "       [ 3.54188776e+00,  1.98080904e+00],\n",
       "       [ 2.38940278e+00,  1.43429875e+00],\n",
       "       [-3.61903672e+00, -3.22301172e+00],\n",
       "       [ 1.67723310e+00,  5.59949942e-01],\n",
       "       [-4.40097835e+00, -8.81774713e-01],\n",
       "       [ 4.42781786e-01,  7.43565032e-02],\n",
       "       [ 8.58828775e+00,  2.79572985e+00],\n",
       "       [ 3.39157937e+00,  5.11612463e-01],\n",
       "       [ 4.91719249e+00,  1.66946711e+00],\n",
       "       [-3.24717501e+00, -2.91947831e+00],\n",
       "       [ 3.89095939e+00,  1.69728651e+00],\n",
       "       [-4.44283424e-01, -8.73287378e-01],\n",
       "       [-2.12222492e+00, -7.11227483e-01],\n",
       "       [ 3.97532602e+00,  1.03459962e+00],\n",
       "       [-2.91276665e+00, -6.55875630e-01],\n",
       "       [ 2.98514848e+00,  1.28514085e+00],\n",
       "       [ 4.21202100e+00,  1.55739827e+00],\n",
       "       [ 3.03552283e+00,  8.54909494e-01],\n",
       "       [-2.11943498e+00, -1.03786743e+00],\n",
       "       [ 7.53011078e+00,  2.78989462e+00],\n",
       "       [ 5.04813111e+00,  2.19572670e+00],\n",
       "       [-5.20792399e+00, -3.79205273e+00],\n",
       "       [ 1.15429358e+00,  9.68848288e-01],\n",
       "       [ 1.95317802e+00,  1.50275222e+00],\n",
       "       [ 6.29616386e-01,  4.99545431e-01],\n",
       "       [ 6.03065489e-01,  1.52041346e+00],\n",
       "       [-7.78288916e-01, -1.87260440e-01],\n",
       "       [ 7.22362211e+00,  1.17520150e+00],\n",
       "       [-3.29195220e+00, -2.23676769e-01],\n",
       "       [ 3.65417793e+00,  3.10640238e+00],\n",
       "       [-6.61395023e+00, -2.60657548e+00],\n",
       "       [ 9.11132310e+00,  3.87465840e+00],\n",
       "       [-4.95308360e+00, -2.09880741e+00],\n",
       "       [ 6.74767697e+00,  3.12674499e+00],\n",
       "       [-3.74463503e-02,  6.54610851e-01],\n",
       "       [-5.43723742e+00, -2.00765937e+00],\n",
       "       [-1.81492260e+00, -1.83704790e+00],\n",
       "       [ 1.04238371e+01,  4.01204875e+00],\n",
       "       [ 7.98033295e+00,  2.97864343e+00],\n",
       "       [-1.99182127e+00, -1.87387989e+00],\n",
       "       [ 8.23232207e+00,  2.61043060e+00],\n",
       "       [ 1.75660550e+00,  3.69555055e-02],\n",
       "       [-9.29264665e-01, -3.78632957e-01],\n",
       "       [ 3.92628966e-01,  1.31248634e-01],\n",
       "       [ 3.82078863e+00,  1.19438687e-01],\n",
       "       [-4.42263203e+00, -1.51962136e+00],\n",
       "       [ 5.62531473e+00,  2.14533996e+00],\n",
       "       [ 9.80390647e+00,  2.33107724e+00],\n",
       "       [-5.85031704e+00, -2.55303728e+00],\n",
       "       [ 1.65096259e+00, -4.45494059e-01],\n",
       "       [ 1.92583740e+00,  3.12347960e+00],\n",
       "       [ 2.49294285e+00,  2.82863057e-01],\n",
       "       [-2.33495065e-01, -9.52327445e-01],\n",
       "       [-7.72002308e-01,  1.87494794e-02],\n",
       "       [-3.71658385e+00, -3.60715636e+00],\n",
       "       [-1.80485940e+00,  9.52210249e-01],\n",
       "       [ 2.51768726e+00,  1.32833443e+00],\n",
       "       [ 1.25386048e+00,  2.87192864e+00],\n",
       "       [-1.52150659e+00, -1.38279481e+00],\n",
       "       [ 1.03309443e+00,  1.46633778e+00],\n",
       "       [-1.01271506e+00,  8.02115006e-01],\n",
       "       [ 6.54110048e+00,  2.45369829e+00],\n",
       "       [ 1.96998496e+00, -1.36269472e+00],\n",
       "       [-2.51349634e+00, -8.54656642e-01],\n",
       "       [-4.86862386e+00, -2.63892583e+00],\n",
       "       [ 3.65931051e-01,  1.71385434e+00],\n",
       "       [ 1.93251807e+00, -1.06135475e+00],\n",
       "       [-9.06049249e-01,  1.69034398e+00],\n",
       "       [-5.16898347e+00, -2.19622987e+00],\n",
       "       [-4.90651819e+00, -1.72169252e+00],\n",
       "       [ 1.56579040e+00, -1.68519466e-01],\n",
       "       [ 6.24668104e-01, -3.12668113e-01],\n",
       "       [ 8.45886724e+00,  2.75523361e+00],\n",
       "       [ 2.33209094e-01, -3.11373026e-01],\n",
       "       [ 8.13295011e-01, -3.88177509e-01],\n",
       "       [-7.59411368e+00, -3.05255103e+00],\n",
       "       [ 8.81472893e-03, -4.98186466e-01],\n",
       "       [ 8.19896596e+00,  3.00818098e+00],\n",
       "       [ 5.02459069e-01,  1.07168996e+00],\n",
       "       [-3.17345944e-01,  3.13561463e-01],\n",
       "       [-2.36291673e+00, -1.88452610e+00],\n",
       "       [-1.07650289e+01, -4.76016155e+00],\n",
       "       [-1.40986359e+00, -9.83631673e-01],\n",
       "       [-4.64205151e+00, -2.01587920e+00],\n",
       "       [ 5.67277193e+00,  2.68295294e+00],\n",
       "       [-1.63064053e-01,  5.72091769e-01],\n",
       "       [-6.00365657e-02, -1.06417646e+00],\n",
       "       [ 4.76062922e+00,  3.40224068e+00]])"
      ]
     },
     "execution_count": 61,
     "metadata": {},
     "output_type": "execute_result"
    }
   ],
   "source": [
    "testData = random.normal(0.0, 2.0, (100,2))\n",
    "shear = array([[2,1],[1,0]])\n",
    "testData = dot(testData, shear)\n",
    "testData"
   ]
  },
  {
   "cell_type": "code",
   "execution_count": 62,
   "id": "45bc1c10",
   "metadata": {},
   "outputs": [
    {
     "name": "stdout",
     "output_type": "stream",
     "text": [
      "Full PCA: [[ 0.92418389 -0.38194781]\n",
      " [ 0.38194781  0.92418389]] 21.836968062362473\n"
     ]
    }
   ],
   "source": [
    "basis, energy = principalComponentAnalysis(testData, 2)\n",
    "print('Full PCA:', basis, energy)"
   ]
  },
  {
   "cell_type": "code",
   "execution_count": 83,
   "id": "6fbd0c4c",
   "metadata": {},
   "outputs": [
    {
     "data": {
      "text/plain": [
       "[<matplotlib.lines.Line2D at 0x2a34e5472e0>,\n",
       " <matplotlib.lines.Line2D at 0x2a34e547340>]"
      ]
     },
     "execution_count": 83,
     "metadata": {},
     "output_type": "execute_result"
    },
    {
     "data": {
      "image/png": "[encoded data removed]",
      "text/plain": [
       "<Figure size 432x288 with 1 Axes>"
      ]
     },
     "metadata": {
      "needs_background": "light"
     },
     "output_type": "display_data"
    }
   ],
   "source": [
    "# plot original data (before transformation)\n",
    "from matplotlib import pyplot\n",
    "x,y = zip(*testData)\n",
    "pyplot.scatter(x, y, s=20, c='#F0F0F0', marker='o')\n",
    "x,y = zip(-10*basis, 10*basis)\n",
    "pyplot.plot(x, y)"
   ]
  },
  {
   "cell_type": "code",
   "execution_count": 90,
   "id": "30022983",
   "metadata": {},
   "outputs": [
    {
     "data": {
      "image/png": "[encoded data removed]",
      "text/plain": [
       "<Figure size 432x288 with 1 Axes>"
      ]
     },
     "metadata": {
      "needs_background": "light"
     },
     "output_type": "display_data"
    }
   ],
   "source": [
    "# plot transformed data after applying PCA\n",
    "transformed = dot(testData, basis)\n",
    "x,y = zip(*transformed)\n",
    "pyplot.scatter(x, y, s=20, c='#000000', marker='^')\n",
    "pyplot.show()"
   ]
  },
  {
   "cell_type": "markdown",
   "id": "1ba4be9a",
   "metadata": {},
   "source": [
    "PCA can be done with Scikit-Learn library. Details are available: https://scikit-learn.org/stable/modules/generated/sklearn.decomposition.PCA.html."
   ]
  },
  {
   "cell_type": "code",
   "execution_count": 78,
   "id": "0d83ad83",
   "metadata": {},
   "outputs": [
    {
     "data": {
      "text/plain": [
       "array([[ -1.49473867,  -1.3158704 ],\n",
       "       [ -2.73423841,   1.08189373],\n",
       "       [ -4.08428685,  -0.08514989],\n",
       "       [ -5.49285968,  -0.05824386],\n",
       "       [ -6.80061466,   0.33539576],\n",
       "       [ -1.1992841 ,   1.13629304],\n",
       "       [  2.92159928,  -0.05099053],\n",
       "       [  4.72429817,  -0.182355  ],\n",
       "       [  6.69338376,   0.44664481],\n",
       "       [  0.47469862,   0.46289961],\n",
       "       [  0.58482581,   0.90728713],\n",
       "       [ -0.48844864,  -0.4605591 ],\n",
       "       [ -3.10211893,   0.54913597],\n",
       "       [ -1.82827246,   0.48424908],\n",
       "       [  5.50348009,  -1.52505191],\n",
       "       [ -0.8361411 ,  -0.05179835],\n",
       "       [  5.33190759,   0.93734252],\n",
       "       [  0.49019027,  -0.02908   ],\n",
       "       [ -8.07717774,  -0.62518878],\n",
       "       [ -2.40204992,  -0.75126188],\n",
       "       [ -4.25423704,  -0.26389586],\n",
       "       [  5.04387756,  -1.38656299],\n",
       "       [ -3.3164345 ,   0.15378187],\n",
       "       [  1.67195216,  -0.5660646 ],\n",
       "       [  3.16078024,   0.22459463],\n",
       "       [ -3.14129297,  -0.49088633],\n",
       "       [  3.87024466,   0.57769561],\n",
       "       [ -2.32188051,   0.11885599],\n",
       "       [ -3.55972446,  -0.09812937],\n",
       "       [ -2.20410975,  -0.29799727],\n",
       "       [  3.28296123,  -0.07834636],\n",
       "       [ -7.09699887,  -0.22641323],\n",
       "       [ -4.5762521 ,   0.17245306],\n",
       "       [  7.18924808,  -1.44407843],\n",
       "       [ -0.50902665,   0.52583452],\n",
       "       [ -1.45126622,   0.71412777],\n",
       "       [  0.15512076,   0.29251169],\n",
       "       [ -0.21025964,   1.24612254],\n",
       "       [  1.71860816,   0.19552311],\n",
       "       [ -6.19701847,  -1.60162392],\n",
       "       [  4.05560443,   1.12195593],\n",
       "       [ -3.63581361,   1.54650222],\n",
       "       [  8.03588444,   0.1885492 ],\n",
       "       [ -8.97265299,   0.1721674 ],\n",
       "       [  6.30699735,   0.02345589],\n",
       "       [ -6.50254541,   0.38374734],\n",
       "       [  0.7123825 ,   0.6906038 ],\n",
       "       [  6.71963072,   0.29261494],\n",
       "       [  3.30678103,  -0.93324391],\n",
       "       [-10.23813325,  -0.20217051],\n",
       "       [ -7.58517915,  -0.22393599],\n",
       "       [  3.48433583,  -0.89971738],\n",
       "       [ -7.67742535,  -0.66047905],\n",
       "       [ -0.70973922,  -0.5654575 ],\n",
       "       [  1.93123183,   0.07632457],\n",
       "       [  0.51481087,   0.04265455],\n",
       "       [ -2.64892829,  -1.2776381 ],\n",
       "       [  5.59554371,   0.3561255 ],\n",
       "       [ -5.09043081,  -0.09456757],\n",
       "       [ -9.02315993,  -1.51891615],\n",
       "       [  7.30969815,  -0.05363969],\n",
       "       [ -0.42783518,  -0.97097953],\n",
       "       [ -2.04503174,   2.2224206 ],\n",
       "       [ -1.48417418,  -0.61943614],\n",
       "       [  1.50733413,  -0.71962231],\n",
       "       [  1.63411314,   0.38351301],\n",
       "       [  5.74035478,  -1.84281428],\n",
       "       [  2.23212974,   1.64069992],\n",
       "       [ -1.90635807,   0.33732059],\n",
       "       [ -1.32792215,   2.24660137],\n",
       "       [  2.8621097 ,  -0.62550013],\n",
       "       [ -0.58703137,   1.03189805],\n",
       "       [  1.55737124,   1.19942652],\n",
       "       [ -6.05456203,  -0.15937014],\n",
       "       [ -0.37234773,  -1.94049151],\n",
       "       [  3.57716944,   0.24148497],\n",
       "       [  6.43523807,  -0.50797206],\n",
       "       [ -0.06498813,   1.51547046],\n",
       "       [ -0.45281758,  -1.64768757],\n",
       "       [  1.11953531,   1.97957266],\n",
       "       [  6.54373883,   0.01588211],\n",
       "       [  6.11992414,   0.35419384],\n",
       "       [ -0.45491026,  -0.68247275],\n",
       "       [  0.46991707,  -0.456233  ],\n",
       "       [ -7.94210194,  -0.61318287],\n",
       "       [  0.83120253,  -0.30551919],\n",
       "       [  0.32443177,  -0.5980632 ],\n",
       "       [  9.1120751 ,   0.15075706],\n",
       "       [  1.10993717,  -0.39246223],\n",
       "       [ -7.79851805,  -0.28014425],\n",
       "       [  0.05410816,   0.8698459 ],\n",
       "       [  1.10132426,   0.48231849],\n",
       "       [  3.83136257,  -0.76781734],\n",
       "       [ 12.694802  ,  -0.21626493],\n",
       "       [  2.60647155,  -0.29924179],\n",
       "       [  5.98787226,  -0.01870122],\n",
       "       [ -5.33963009,   0.38415951],\n",
       "       [  0.85999434,   0.6623204 ],\n",
       "       [  1.38974707,  -0.88924346],\n",
       "       [ -4.77137286,   1.39730456]])"
      ]
     },
     "execution_count": 78,
     "metadata": {},
     "output_type": "execute_result"
    }
   ],
   "source": [
    "import numpy as np\n",
    "from sklearn.decomposition import PCA\n",
    "pca = PCA(n_components=2)\n",
    "testData_pca = pca.fit_transform(testData)\n",
    "testData_pca"
   ]
  },
  {
   "cell_type": "code",
   "execution_count": 91,
   "id": "63e88a32",
   "metadata": {},
   "outputs": [
    {
     "data": {
      "image/png": "[encoded data removed]",
      "text/plain": [
       "<Figure size 432x288 with 1 Axes>"
      ]
     },
     "metadata": {
      "needs_background": "light"
     },
     "output_type": "display_data"
    }
   ],
   "source": [
    "# plot transformed data (PCA with Scikit-Learn library) \n",
    "x,y = zip(*testData_pca)\n",
    "pyplot.scatter(x, y, s=20, c='#000000', marker='v')\n",
    "pyplot.show()"
   ]
  },
  {
   "cell_type": "markdown",
   "id": "ba7ceb8d",
   "metadata": {},
   "source": [
    "## 3- Machine learning\n",
    "### 3-1- K-nearest neighbours\n",
    "A method to classify an unknown data vector by calculating the distance or similarity between points, i.e., comparing the unknown data to data vectors for which there is a known classification."
   ]
  },
  {
   "cell_type": "code",
   "execution_count": 2,
   "id": "870c6f87",
   "metadata": {},
   "outputs": [],
   "source": [
    "#distance calculation\n",
    "def getFeatureDistance(vector1, vector2):\n",
    "    distance = 0.0\n",
    "    for a, b in zip(vector1, vector2):\n",
    "        delta = a-b\n",
    "        distance += delta * delta\n",
    "    return distance"
   ]
  },
  {
   "cell_type": "code",
   "execution_count": 4,
   "id": "e27121d9",
   "metadata": {},
   "outputs": [],
   "source": [
    "#taking k closest neighbours\n",
    "def kNearestNeighbour(knowns, query, k=7):\n",
    "    if k >= len(knowns):\n",
    "        raise Exception('Length of training data must be larger than k')\n",
    "    dists = []\n",
    "    for vector, cat in knowns[:k]:\n",
    "        dist = getFeatureDistance(vector, query)\n",
    "        dists.append( (dist, cat) ) # Vector could be included\n",
    "    dists.sort()\n",
    "    closest = dists[:k]\n",
    "    counts = {}\n",
    "    for dist, cat in closest:\n",
    "        counts[cat] = counts.get(cat, 0) + 1\n",
    "    bestCount = max(counts.values())\n",
    "    bestCats = [cat for cat in counts if counts[cat] == bestCount]\n",
    "    for dist, cat in closest:\n",
    "        if cat in bestCats:\n",
    "            return cat"
   ]
  },
  {
   "cell_type": "markdown",
   "id": "93b48328",
   "metadata": {},
   "source": [
    "#### Example\n",
    "A set of colour vectors are placed into two named categories, warm and cool, with equal number of each category to have unbiased prediction results. "
   ]
  },
  {
   "cell_type": "code",
   "execution_count": 5,
   "id": "eb7ae98a",
   "metadata": {},
   "outputs": [],
   "source": [
    "knownClasses = [((1.0, 0.0, 0.0), 'warm'), # red\n",
    "                ((0.0, 1.0, 0.0), 'cool'), # green\n",
    "                ((0.0, 0.0, 1.0), 'cool'), # blue\n",
    "                ((0.0, 1.0, 1.0), 'cool'), # cyan\n",
    "                ((1.0, 1.0, 0.0), 'warm'), # yellow\n",
    "                ((1.0, 0.0, 1.0), 'warm'), # magenta\n",
    "                ((0.0, 0.0, 0.0), 'cool'), # black\n",
    "                ((0.5, 0.5, 0.5), 'cool'), # grey\n",
    "                ((1.0, 1.0, 1.0), 'cool'), # white\n",
    "                ((1.0, 1.0, 0.5), 'warm'), # light yellow\n",
    "                ((0.5, 0.0, 0.0), 'warm'), # maroon\n",
    "                ((1.0, 0.5, 0.5), 'warm'), # pink\n",
    "                ]"
   ]
  },
  {
   "cell_type": "code",
   "execution_count": 6,
   "id": "334351f4",
   "metadata": {},
   "outputs": [
    {
     "name": "stdout",
     "output_type": "stream",
     "text": [
      "Colour class: cool\n"
     ]
    }
   ],
   "source": [
    "result = kNearestNeighbour(knownClasses, (0.7,0.7,0.2), k=3)\n",
    "print('Colour class:', result) # cool yellowish colour!"
   ]
  },
  {
   "cell_type": "markdown",
   "id": "e9efaa4f",
   "metadata": {},
   "source": [
    "### 3-2- Feed-forward artificial neural networks\n",
    "The neural network is composed of a series of nodes arranged into three layers (input, middle or hidden, and output), but could have more layers! In feed-forward mechanism, input signals enter into the nodes of the first layer, then to those in the hidden layer, and finally move to those in the output layer. \n",
    "\n",
    "The number of input nodes represents the size of the input vector. The number of hidden nodes used will depend on the type and complexity but will normally be optimised to give the best predictions (between 3 and 10)."
   ]
  },
  {
   "cell_type": "code",
   "execution_count": 1,
   "id": "0040fcf8",
   "metadata": {},
   "outputs": [],
   "source": [
    "from numpy import array, tanh, zeros, ones, random, sum, append\n",
    "#prediction function\n",
    "def neuralNetPredict(inputVec, weightsIn, weightsOut):\n",
    "    signalIn = append(inputVec, 1.0) # input layer\n",
    "    prod = signalIn * weightsIn.T\n",
    "    sums = sum(prod, axis=1)\n",
    "    signalHid = tanh(sums) # hidden layer\n",
    "    prod = signalHid * weightsOut.T\n",
    "    sums = sum(prod, axis=1)\n",
    "    signalOut = tanh(sums) # output layer\n",
    "    return signalIn, signalHid, signalOut"
   ]
  },
  {
   "cell_type": "code",
   "execution_count": 3,
   "id": "8eb8d306",
   "metadata": {},
   "outputs": [],
   "source": [
    "#training function\n",
    "def neuralNetTrain(trainData, numHid, steps=100, rate=0.5, momentum=0.2):\n",
    "    #initialising numbers of nodes and minimum error value\n",
    "    numInp = len(trainData[0][0])\n",
    "    numOut = len(trainData[0][1])\n",
    "    numInp += 1\n",
    "    minError = None\n",
    "    #making initial signal vectors as arrays of required sizes\n",
    "    sigInp = ones(numInp)\n",
    "    sigHid = ones(numHid)\n",
    "    sigOut = ones(numOut)\n",
    "    #initialising weight matrices with random values\n",
    "    wInp = random.random((numInp, numHid))-0.5\n",
    "    wOut = random.random((numHid, numOut))-0.5\n",
    "    bestWeightMatrices = (wInp, wOut)\n",
    "    #initialising change matrices that indicate how much the weigh matrices differ from one training cycle to the next\n",
    "    cInp = zeros((numInp, numHid))\n",
    "    cOut = zeros((numHid, numOut))\n",
    "    #initialising training data\n",
    "    for x, (inputs, knownOut) in enumerate(trainData):\n",
    "        trainData[x] = (array(inputs), array(knownOut))\n",
    "    #begin training\n",
    "    for step in range(steps): # xrange() in Python 2\n",
    "        random.shuffle(trainData) # Important\n",
    "        error = 0.0\n",
    "        #getting input feature vector in each for loop\n",
    "        for inputs, knownOut in trainData:\n",
    "            sigIn, sigHid, sigOut = neuralNetPredict(inputs, wInp, wOut)  \n",
    "            #apply back-propagation to reduce error\n",
    "            diff = knownOut - sigOut\n",
    "            error += sum(diff * diff) \n",
    "            #adjustment to output layer\n",
    "            gradient = ones(numOut) - (sigOut*sigOut)\n",
    "            outAdjust = gradient * diff\n",
    "            #adjustment to hidden layer\n",
    "            diff = sum(outAdjust * wOut, axis=1)\n",
    "            gradient = ones(numHid) - (sigHid*sigHid)\n",
    "            hidAdjust = gradient * diff\n",
    "            #update output\n",
    "            change = outAdjust * sigHid.reshape(numHid, 1)\n",
    "            wOut += (rate * change) + (momentum * cOut)\n",
    "            cOut = change\n",
    "            #update input\n",
    "            change = hidAdjust * sigIn.reshape(numInp, 1)\n",
    "            wInp += (rate * change) + (momentum * cInp)\n",
    "            cInp = change\n",
    "        #check improvment of minimum error\n",
    "        if (minError is None) or (error < minError):\n",
    "            minError = error\n",
    "            bestWeightMatrices = (wInp.copy(), wOut.copy())\n",
    "            print(\"Step: %d Error: %f\" % (step, error))\n",
    "    return bestWeightMatrices"
   ]
  },
  {
   "cell_type": "markdown",
   "id": "7f617ac3",
   "metadata": {},
   "source": [
    "#### Example"
   ]
  },
  {
   "cell_type": "code",
   "execution_count": 8,
   "id": "597434a2",
   "metadata": {},
   "outputs": [
    {
     "name": "stdout",
     "output_type": "stream",
     "text": [
      "Step: 0 Error: 1.679160\n",
      "Step: 1 Error: 1.243400\n",
      "Step: 3 Error: 1.203500\n",
      "Step: 5 Error: 1.182707\n",
      "Step: 6 Error: 1.110416\n",
      "Step: 7 Error: 1.043538\n",
      "Step: 10 Error: 1.034678\n",
      "Step: 12 Error: 0.992481\n",
      "Step: 13 Error: 0.985588\n",
      "Step: 14 Error: 0.926996\n",
      "Step: 15 Error: 0.895601\n",
      "Step: 18 Error: 0.864088\n",
      "Step: 19 Error: 0.850727\n",
      "Step: 22 Error: 0.837584\n",
      "Step: 23 Error: 0.815856\n",
      "Step: 27 Error: 0.783909\n",
      "Step: 28 Error: 0.777162\n",
      "Step: 30 Error: 0.777046\n",
      "Step: 34 Error: 0.775094\n",
      "Step: 35 Error: 0.754048\n",
      "Step: 37 Error: 0.745625\n",
      "Step: 39 Error: 0.728422\n",
      "Step: 41 Error: 0.722249\n",
      "Step: 45 Error: 0.598111\n",
      "Step: 53 Error: 0.538254\n",
      "Step: 54 Error: 0.386650\n",
      "Step: 59 Error: 0.363258\n",
      "Step: 64 Error: 0.350288\n",
      "Step: 66 Error: 0.146592\n",
      "Step: 72 Error: 0.128248\n",
      "Step: 83 Error: 0.110006\n",
      "Step: 84 Error: 0.104976\n",
      "Step: 86 Error: 0.054854\n",
      "Step: 95 Error: 0.052264\n",
      "Step: 107 Error: 0.030073\n",
      "Step: 117 Error: 0.024943\n",
      "Step: 122 Error: 0.024626\n",
      "Step: 130 Error: 0.023336\n",
      "Step: 133 Error: 0.019484\n",
      "Step: 144 Error: 0.019356\n",
      "Step: 152 Error: 0.019125\n",
      "Step: 154 Error: 0.018436\n",
      "Step: 157 Error: 0.018317\n",
      "Step: 162 Error: 0.015911\n",
      "Step: 164 Error: 0.013805\n",
      "Step: 165 Error: 0.013625\n",
      "Step: 167 Error: 0.011703\n",
      "Step: 171 Error: 0.011513\n",
      "Step: 179 Error: 0.009091\n",
      "Step: 186 Error: 0.007805\n",
      "Step: 193 Error: 0.007500\n",
      "Step: 212 Error: 0.005741\n",
      "Step: 224 Error: 0.005489\n",
      "Step: 234 Error: 0.004664\n",
      "Step: 251 Error: 0.004351\n",
      "Step: 266 Error: 0.003660\n",
      "Step: 287 Error: 0.003435\n",
      "Step: 293 Error: 0.003388\n",
      "Step: 299 Error: 0.003312\n",
      "Step: 300 Error: 0.003289\n",
      "Step: 305 Error: 0.003131\n",
      "Step: 313 Error: 0.002956\n",
      "Step: 316 Error: 0.002863\n",
      "Step: 323 Error: 0.002838\n",
      "Step: 331 Error: 0.002790\n",
      "Step: 337 Error: 0.002770\n",
      "Step: 339 Error: 0.002461\n",
      "Step: 355 Error: 0.002373\n",
      "Step: 358 Error: 0.002291\n",
      "Step: 360 Error: 0.002214\n",
      "Step: 367 Error: 0.002207\n",
      "Step: 383 Error: 0.002197\n",
      "Step: 389 Error: 0.002080\n",
      "Step: 394 Error: 0.001995\n",
      "Step: 406 Error: 0.001994\n",
      "Step: 413 Error: 0.001943\n",
      "Step: 416 Error: 0.001829\n",
      "Step: 430 Error: 0.001687\n",
      "Step: 438 Error: 0.001661\n",
      "Step: 449 Error: 0.001659\n",
      "Step: 451 Error: 0.001568\n",
      "Step: 465 Error: 0.001547\n",
      "Step: 478 Error: 0.001528\n",
      "Step: 490 Error: 0.001511\n",
      "Step: 492 Error: 0.001502\n",
      "Step: 493 Error: 0.001403\n",
      "Step: 512 Error: 0.001319\n",
      "Step: 522 Error: 0.001301\n",
      "Step: 542 Error: 0.001264\n",
      "Step: 558 Error: 0.001204\n",
      "Step: 569 Error: 0.001195\n",
      "Step: 580 Error: 0.001151\n",
      "Step: 593 Error: 0.001135\n",
      "Step: 594 Error: 0.001085\n",
      "Step: 619 Error: 0.001065\n",
      "Step: 632 Error: 0.001044\n",
      "Step: 633 Error: 0.001042\n",
      "Step: 636 Error: 0.001041\n",
      "Step: 637 Error: 0.001020\n",
      "Step: 641 Error: 0.001006\n",
      "Step: 651 Error: 0.000948\n",
      "Step: 669 Error: 0.000922\n",
      "Step: 685 Error: 0.000912\n",
      "Step: 691 Error: 0.000893\n",
      "Step: 696 Error: 0.000892\n",
      "Step: 715 Error: 0.000879\n",
      "Step: 719 Error: 0.000854\n",
      "Step: 746 Error: 0.000828\n",
      "Step: 753 Error: 0.000813\n",
      "Step: 755 Error: 0.000795\n",
      "Step: 775 Error: 0.000792\n",
      "Step: 783 Error: 0.000768\n",
      "Step: 799 Error: 0.000739\n",
      "Step: 806 Error: 0.000726\n",
      "Step: 819 Error: 0.000726\n",
      "Step: 838 Error: 0.000692\n",
      "Step: 853 Error: 0.000684\n",
      "Step: 869 Error: 0.000676\n",
      "Step: 871 Error: 0.000665\n",
      "Step: 892 Error: 0.000649\n",
      "Step: 926 Error: 0.000635\n",
      "Step: 935 Error: 0.000623\n",
      "Step: 965 Error: 0.000587\n",
      "Step: 981 Error: 0.000586\n",
      "Step: 993 Error: 0.000585\n",
      "Step: 996 Error: 0.000579\n",
      "[0] 0.0006377920535252706\n",
      "[1] 0.9832866679083297\n",
      "[1] 0.9833015662870996\n",
      "[0] 0.002253943394169465\n"
     ]
    }
   ],
   "source": [
    "#define data\n",
    "data = [[[0,0], [0]],\n",
    "        [[0,1], [1]],\n",
    "        [[1,0], [1]],\n",
    "        [[1,1], [0]]]\n",
    "#training\n",
    "wMatrixIn, wMatrixOut = neuralNetTrain(data, 2, 1000)\n",
    "#predicting\n",
    "for inputs, knownOut in data:\n",
    "    sIn, sHid, sOut = neuralNetPredict(array(inputs), wMatrixIn, wMatrixOut)\n",
    "    print(knownOut, sOut[0])"
   ]
  },
  {
   "cell_type": "markdown",
   "id": "eeb34424",
   "metadata": {},
   "source": [
    "Neural networks can be made with Scikit-Learn library. Details are available: https://scikit-learn.org/stable/modules/neural_networks_supervised.html."
   ]
  },
  {
   "cell_type": "code",
   "execution_count": 18,
   "id": "9e567bfa",
   "metadata": {},
   "outputs": [
    {
     "data": {
      "text/plain": [
       "MLPClassifier(alpha=1e-05, hidden_layer_sizes=(5, 4), random_state=1,\n",
       "              solver='lbfgs')"
      ]
     },
     "execution_count": 18,
     "metadata": {},
     "output_type": "execute_result"
    }
   ],
   "source": [
    "from sklearn.neural_network import MLPClassifier\n",
    "X = [[0, 0], [0,1], [1,0], [1, 1]]\n",
    "y = [0, 1, 1, 0]\n",
    "clf = MLPClassifier(solver='lbfgs', alpha=1e-5, hidden_layer_sizes=(5, 4), random_state=1)\n",
    "clf.fit(X, y)"
   ]
  },
  {
   "cell_type": "code",
   "execution_count": 35,
   "id": "8b7f977b",
   "metadata": {},
   "outputs": [
    {
     "name": "stdout",
     "output_type": "stream",
     "text": [
      "[0.0001099675811655932, 0.9999909493271045, 1.0, 0.0001099675811655932]\n"
     ]
    }
   ],
   "source": [
    "#prediction of seen data\n",
    "preds = clf.predict_proba([[0, 0], [0, 1], [1,0], [1,1]])\n",
    "preds_1 = [item[1] for item in preds]\n",
    "print(preds_1)"
   ]
  },
  {
   "cell_type": "code",
   "execution_count": 39,
   "id": "72b012f1",
   "metadata": {},
   "outputs": [
    {
     "name": "stdout",
     "output_type": "stream",
     "text": [
      "[0.0001099675811655932, 1.0]\n"
     ]
    }
   ],
   "source": [
    "#prediction of unseen data\n",
    "preds = clf.predict_proba([[2, 2], [-1, -2]])\n",
    "preds_1 = [item[1] for item in preds]\n",
    "print(preds_1)"
   ]
  }
 ],
 "metadata": {
  "kernelspec": {
   "display_name": "Python 3",
   "language": "python",
   "name": "python3"
  },
  "language_info": {
   "codemirror_mode": {
    "name": "ipython",
    "version": 3
   },
   "file_extension": ".py",
   "mimetype": "text/x-python",
   "name": "python",
   "nbconvert_exporter": "python",
   "pygments_lexer": "ipython3",
   "version": "3.10.4"
  }
 },
 "nbformat": 4,
 "nbformat_minor": 5
}
